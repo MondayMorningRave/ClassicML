{
 "cells": [
  {
   "cell_type": "code",
   "execution_count": 60,
   "id": "de784091",
   "metadata": {},
   "outputs": [
    {
     "name": "stdout",
     "output_type": "stream",
     "text": [
      "Requirement already satisfied: xgboost in c:\\users\\serik\\anaconda3\\lib\\site-packages (1.7.4)\n",
      "Requirement already satisfied: numpy in c:\\users\\serik\\anaconda3\\lib\\site-packages (from xgboost) (1.21.5)\n",
      "Requirement already satisfied: scipy in c:\\users\\serik\\anaconda3\\lib\\site-packages (from xgboost) (1.9.1)\n"
     ]
    }
   ],
   "source": [
    "!pip install xgboost"
   ]
  },
  {
   "cell_type": "code",
   "execution_count": 61,
   "id": "958c7df6",
   "metadata": {},
   "outputs": [],
   "source": [
    "import pandas as pd\n",
    "import numpy as np\n",
    "\n",
    "file_path = r'C:\\Users\\serik\\OneDrive\\Рабочий стол\\Новая папка\\bank-additional\\bank-additional-full.csv'\n",
    "df = pd.read_csv(file_path, sep=';')\n",
    "X = df.drop([\"y\", \"duration\"], axis=1)\n",
    "y = df[\"y\"]"
   ]
  },
  {
   "cell_type": "code",
   "execution_count": 62,
   "id": "81f5724b",
   "metadata": {},
   "outputs": [],
   "source": [
    "from sklearn.model_selection import train_test_split\n",
    "\n",
    "X_train, X_val, y_train, y_val = train_test_split(X, y, test_size=0.20, shuffle=True, random_state=1, stratify=y)"
   ]
  },
  {
   "cell_type": "code",
   "execution_count": 63,
   "id": "9da0594a",
   "metadata": {},
   "outputs": [],
   "source": [
    "numeric_features = X_train.select_dtypes(include=['int64', 'float64']).columns\n",
    "categorical_features = X_train.select_dtypes(include=['object']).columns"
   ]
  },
  {
   "cell_type": "code",
   "execution_count": 64,
   "id": "c1f81651",
   "metadata": {},
   "outputs": [],
   "source": [
    "from sklearn.pipeline import Pipeline\n",
    "from sklearn.compose import ColumnTransformer\n",
    "from sklearn.impute import SimpleImputer\n",
    "from sklearn.preprocessing import StandardScaler\n",
    "\n",
    "numeric_transformer = Pipeline(steps=[\n",
    "    ('imputer', SimpleImputer(strategy='median')),\n",
    "    ('scaler', StandardScaler())])"
   ]
  },
  {
   "cell_type": "code",
   "execution_count": 65,
   "id": "2e74446c",
   "metadata": {},
   "outputs": [],
   "source": [
    "from sklearn.base import BaseEstimator, TransformerMixin\n",
    "\n",
    "class UnknownToNaN(BaseEstimator, TransformerMixin):\n",
    "    def __init__(self, unknown_label='unknown'):\n",
    "        self.unknown_label = unknown_label\n",
    "\n",
    "    def fit(self, X, y=None):\n",
    "        return self\n",
    "\n",
    "    def transform(self, X):\n",
    "        return X.replace(self.unknown_label, np.nan)"
   ]
  },
  {
   "cell_type": "code",
   "execution_count": 66,
   "id": "f4256f3a",
   "metadata": {},
   "outputs": [],
   "source": [
    "from sklearn.preprocessing import OneHotEncoder, OrdinalEncoder\n",
    "\n",
    "ohe_features = ['job', 'month', 'day_of_week']\n",
    "oe_features = ['marital', 'education', 'default', 'housing', 'loan', 'contact', 'poutcome']"
   ]
  },
  {
   "cell_type": "code",
   "execution_count": 67,
   "id": "6bb93354",
   "metadata": {},
   "outputs": [],
   "source": [
    "categorical_transformer_ohe = Pipeline(steps=[\n",
    "    ('unknown_to_nan', UnknownToNaN(unknown_label='unknown')),\n",
    "    ('imputer', SimpleImputer(strategy='most_frequent')),\n",
    "    ('onehot', OneHotEncoder(handle_unknown='ignore'))])\n",
    "\n",
    "categorical_transformer_oe = Pipeline(steps=[\n",
    "    ('unknown_to_nan', UnknownToNaN(unknown_label='unknown')),\n",
    "    ('imputer', SimpleImputer(strategy='most_frequent')),\n",
    "    ('ordinal_encoder', OrdinalEncoder())])\n"
   ]
  },
  {
   "cell_type": "code",
   "execution_count": 68,
   "id": "3884c04f",
   "metadata": {},
   "outputs": [],
   "source": [
    "preprocessor = ColumnTransformer(\n",
    "    transformers=[\n",
    "        ('dog', numeric_transformer, numeric_features),\n",
    "        ('cat_ohe', categorical_transformer_ohe, ohe_features),\n",
    "        ('cat_oe', categorical_transformer_oe, oe_features)])"
   ]
  },
  {
   "cell_type": "code",
   "execution_count": 69,
   "id": "4a1efe72",
   "metadata": {},
   "outputs": [],
   "source": [
    "from sklearn.linear_model import LogisticRegression\n",
    "from sklearn.ensemble import RandomForestClassifier, GradientBoostingClassifier\n",
    "from sklearn.ensemble import StackingClassifier\n",
    "\n",
    "\n",
    "base_models = [\n",
    "    ('logistic_regression', LogisticRegression(random_state=1, max_iter=1000)),\n",
    "    ('random_forest', RandomForestClassifier(random_state=1, n_jobs=-1)),\n",
    "    ('gradient_boosting', GradientBoostingClassifier(random_state=1))\n",
    "]\n",
    "\n",
    "stacking_classifier = StackingClassifier(estimators=base_models, final_estimator=LogisticRegression(), cv=5)\n",
    "\n",
    "pipeline = Pipeline(steps=[\n",
    "    ('preprocessor', preprocessor),\n",
    "    ('classifier', stacking_classifier)\n",
    "])\n"
   ]
  },
  {
   "cell_type": "code",
   "execution_count": 70,
   "id": "7b619468",
   "metadata": {},
   "outputs": [],
   "source": [
    "from sklearn.model_selection import cross_val_score\n",
    "\n",
    "pipeline.fit(X_train, y_train)\n",
    "cv_scores = cross_val_score(pipeline, X_train, y_train, cv=5, n_jobs=-1, scoring='accuracy')\n"
   ]
  },
  {
   "cell_type": "code",
   "execution_count": 71,
   "id": "f7770953",
   "metadata": {},
   "outputs": [
    {
     "name": "stdout",
     "output_type": "stream",
     "text": [
      "Accuracy on validation set: 0.9024034959941734\n"
     ]
    }
   ],
   "source": [
    "from sklearn.metrics import accuracy_score\n",
    "\n",
    "y_pred = pipeline.predict(X_val)\n",
    "accuracy = accuracy_score(y_val, y_pred)\n",
    "\n",
    "print(f\"Accuracy on validation set: {accuracy}\")"
   ]
  },
  {
   "cell_type": "code",
   "execution_count": null,
   "id": "5d93b469",
   "metadata": {},
   "outputs": [],
   "source": []
  }
 ],
 "metadata": {
  "kernelspec": {
   "display_name": "Python 3 (ipykernel)",
   "language": "python",
   "name": "python3"
  },
  "language_info": {
   "codemirror_mode": {
    "name": "ipython",
    "version": 3
   },
   "file_extension": ".py",
   "mimetype": "text/x-python",
   "name": "python",
   "nbconvert_exporter": "python",
   "pygments_lexer": "ipython3",
   "version": "3.9.13"
  }
 },
 "nbformat": 4,
 "nbformat_minor": 5
}
