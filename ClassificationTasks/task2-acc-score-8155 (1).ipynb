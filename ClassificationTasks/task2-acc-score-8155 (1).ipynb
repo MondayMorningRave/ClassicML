{
 "cells": [
  {
   "cell_type": "code",
   "execution_count": 2,
   "metadata": {
    "_cell_guid": "d3172cf5-a230-467c-816d-89475bc9ba57",
    "_uuid": "342aa69b-631a-410b-acdb-8514ee613d9a",
    "execution": {
     "iopub.execute_input": "2023-03-12T17:42:47.603975Z",
     "iopub.status.busy": "2023-03-12T17:42:47.603473Z",
     "iopub.status.idle": "2023-03-12T17:42:47.637719Z",
     "shell.execute_reply": "2023-03-12T17:42:47.636718Z",
     "shell.execute_reply.started": "2023-03-12T17:42:47.603929Z"
    },
    "jupyter": {
     "outputs_hidden": false
    }
   },
   "outputs": [],
   "source": [
    "import pandas as pd\n",
    "import numpy as np\n",
    "from sklearn.impute import SimpleImputer\n",
    "from sklearn.preprocessing import LabelEncoder, StandardScaler\n",
    "from sklearn.model_selection import train_test_split\n",
    "df = pd.read_csv(r'C:\\Users\\serik\\OneDrive\\Рабочий стол\\ML2\\WA_Fn-UseC_-Telco-Customer-Churn.csv')"
   ]
  },
  {
   "cell_type": "code",
   "execution_count": 3,
   "metadata": {
    "_cell_guid": "0b7395fb-9e42-4e0f-bf81-7345a5e314ba",
    "_uuid": "fddfaec6-b30e-444b-957d-492a294ffa71",
    "execution": {
     "iopub.execute_input": "2023-03-12T17:42:47.640622Z",
     "iopub.status.busy": "2023-03-12T17:42:47.640221Z",
     "iopub.status.idle": "2023-03-12T17:42:47.659139Z",
     "shell.execute_reply": "2023-03-12T17:42:47.657144Z",
     "shell.execute_reply.started": "2023-03-12T17:42:47.640582Z"
    },
    "jupyter": {
     "outputs_hidden": false
    }
   },
   "outputs": [],
   "source": [
    "# Replace ' ' values with NaN\n",
    "df['TotalCharges'] = df['TotalCharges'].replace(' ', np.nan)\n",
    "\n",
    "# Convert TotalCharges to float\n",
    "df['TotalCharges'] = pd.to_numeric(df['TotalCharges'])\n",
    "\n",
    "# Impute missing values with the median of the column\n",
    "imputer = SimpleImputer(strategy='median')\n",
    "df['TotalCharges'] = imputer.fit_transform(df[['TotalCharges']])"
   ]
  },
  {
   "cell_type": "code",
   "execution_count": 4,
   "metadata": {
    "_cell_guid": "869c01de-317e-4f55-8241-28678b74a8dd",
    "_uuid": "63b6f8a3-b1d0-4aed-ba6d-10e536e0fc42",
    "execution": {
     "iopub.execute_input": "2023-03-12T17:42:47.661569Z",
     "iopub.status.busy": "2023-03-12T17:42:47.661141Z",
     "iopub.status.idle": "2023-03-12T17:42:47.708856Z",
     "shell.execute_reply": "2023-03-12T17:42:47.707957Z",
     "shell.execute_reply.started": "2023-03-12T17:42:47.661533Z"
    },
    "jupyter": {
     "outputs_hidden": false
    }
   },
   "outputs": [],
   "source": [
    "# Convert categorical columns to numerical using LabelEncoder\n",
    "le = LabelEncoder()\n",
    "df['gender'] = le.fit_transform(df['gender'])\n",
    "df['Partner'] = le.fit_transform(df['Partner'])\n",
    "df['Dependents'] = le.fit_transform(df['Dependents'])\n",
    "df['PhoneService'] = le.fit_transform(df['PhoneService'])\n",
    "df['MultipleLines'] = le.fit_transform(df['MultipleLines'])\n",
    "df['InternetService'] = le.fit_transform(df['InternetService'])\n",
    "df['OnlineSecurity'] = le.fit_transform(df['OnlineSecurity'])\n",
    "df['OnlineBackup'] = le.fit_transform(df['OnlineBackup'])\n",
    "df['DeviceProtection'] = le.fit_transform(df['DeviceProtection'])\n",
    "df['TechSupport'] = le.fit_transform(df['TechSupport'])\n",
    "df['StreamingTV'] = le.fit_transform(df['StreamingTV'])\n",
    "df['StreamingMovies'] = le.fit_transform(df['StreamingMovies'])\n",
    "df['Contract'] = le.fit_transform(df['Contract'])\n",
    "df['PaperlessBilling'] = le.fit_transform(df['PaperlessBilling'])\n",
    "df['PaymentMethod'] = le.fit_transform(df['PaymentMethod'])\n",
    "df['Churn'] = le.fit_transform(df['Churn'])"
   ]
  },
  {
   "cell_type": "code",
   "execution_count": 5,
   "metadata": {
    "_cell_guid": "545b8b4b-4606-494c-9755-c9a005311711",
    "_uuid": "4b5447ee-ed48-4855-8fdd-f81504f33bf1",
    "execution": {
     "iopub.execute_input": "2023-03-12T17:42:47.710910Z",
     "iopub.status.busy": "2023-03-12T17:42:47.710301Z",
     "iopub.status.idle": "2023-03-12T17:42:47.722420Z",
     "shell.execute_reply": "2023-03-12T17:42:47.721162Z",
     "shell.execute_reply.started": "2023-03-12T17:42:47.710867Z"
    },
    "jupyter": {
     "outputs_hidden": false
    }
   },
   "outputs": [],
   "source": [
    "# Scale numerical columns\n",
    "scaler = StandardScaler()\n",
    "df[['tenure', 'MonthlyCharges', 'TotalCharges']] = scaler.fit_transform(df[['tenure', 'MonthlyCharges', 'TotalCharges']])"
   ]
  },
  {
   "cell_type": "code",
   "execution_count": 6,
   "metadata": {
    "_cell_guid": "fe391964-92af-4825-aa17-8dd8359cd9a2",
    "_uuid": "7e803f70-67b3-4aab-aecf-77e866b0881d",
    "execution": {
     "iopub.execute_input": "2023-03-12T17:42:47.726422Z",
     "iopub.status.busy": "2023-03-12T17:42:47.725468Z",
     "iopub.status.idle": "2023-03-12T17:42:47.735401Z",
     "shell.execute_reply": "2023-03-12T17:42:47.734485Z",
     "shell.execute_reply.started": "2023-03-12T17:42:47.726380Z"
    },
    "jupyter": {
     "outputs_hidden": false
    }
   },
   "outputs": [],
   "source": [
    "# Split data into train and validation sets\n",
    "X = df.drop(['Churn', 'customerID'], axis=1)\n",
    "y = df['Churn']\n",
    "X_train, X_val, y_train, y_val = train_test_split(X, y, test_size=0.2, random_state=1)"
   ]
  },
  {
   "cell_type": "code",
   "execution_count": 7,
   "metadata": {
    "_cell_guid": "882dce62-3a08-4880-a4c5-51d22d2e0dd6",
    "_uuid": "0f809d27-5005-4764-a122-fc9191b48ea5",
    "execution": {
     "iopub.execute_input": "2023-03-12T17:42:47.737555Z",
     "iopub.status.busy": "2023-03-12T17:42:47.737078Z",
     "iopub.status.idle": "2023-03-12T17:42:47.751444Z",
     "shell.execute_reply": "2023-03-12T17:42:47.750429Z",
     "shell.execute_reply.started": "2023-03-12T17:42:47.737515Z"
    },
    "jupyter": {
     "outputs_hidden": false
    }
   },
   "outputs": [],
   "source": [
    "X_train['MonthlyToTotalChargesRatio'] = X_train.MonthlyCharges / X_train.TotalCharges\n",
    "X_val['MonthlyToTotalChargesRatio'] = X_val.MonthlyCharges / X_val.TotalCharges\n",
    "# drop redundant features\n",
    "X_train = X_train.drop(['MonthlyCharges', 'TotalCharges'], axis=1)\n",
    "X_val = X_val.drop(['MonthlyCharges', 'TotalCharges'], axis=1)"
   ]
  },
  {
   "cell_type": "code",
   "execution_count": 8,
   "metadata": {
    "_cell_guid": "2a939db3-875a-46f5-b1cb-da901d252a94",
    "_uuid": "45198a14-06d8-4fa6-9a58-6f2e2805f523",
    "execution": {
     "iopub.execute_input": "2023-03-12T17:42:47.753792Z",
     "iopub.status.busy": "2023-03-12T17:42:47.753463Z",
     "iopub.status.idle": "2023-03-12T17:45:24.317753Z",
     "shell.execute_reply": "2023-03-12T17:45:24.316128Z",
     "shell.execute_reply.started": "2023-03-12T17:42:47.753765Z"
    },
    "jupyter": {
     "outputs_hidden": false
    }
   },
   "outputs": [
    {
     "data": {
      "text/markdown": [
       "<h1 style='color:blue;font-weight:bold'>Accuracy: 0.8091</h1>"
      ],
      "text/plain": [
       "<IPython.core.display.Markdown object>"
      ]
     },
     "metadata": {},
     "output_type": "display_data"
    }
   ],
   "source": [
    "from sklearn.ensemble import RandomForestClassifier\n",
    "from sklearn.model_selection import GridSearchCV\n",
    "from sklearn.metrics import accuracy_score\n",
    "from IPython.display import Markdown\n",
    "rf = RandomForestClassifier()\n",
    "param_grid = {'n_estimators': [50, 100, 200], 'max_depth': [3, 5, 7], 'min_samples_split': [2, 5, 10], 'min_samples_leaf': [1, 2, 4]}\n",
    "grid_rf = GridSearchCV(rf, param_grid, cv=5)\n",
    "grid_rf.fit(X_train, y_train)\n",
    "best_rf = grid_rf.best_estimator_\n",
    "y_pred = best_rf.predict(X_val)\n",
    "acc_score = accuracy_score(y_val, y_pred)\n",
    "display(Markdown(\"<h1 style='color:blue;font-weight:bold'>Accuracy: \" + str(round(acc_score, 4)) + \"</h1>\"))"
   ]
  }
 ],
 "metadata": {
  "kernelspec": {
   "display_name": "Python 3 (ipykernel)",
   "language": "python",
   "name": "python3"
  },
  "language_info": {
   "codemirror_mode": {
    "name": "ipython",
    "version": 3
   },
   "file_extension": ".py",
   "mimetype": "text/x-python",
   "name": "python",
   "nbconvert_exporter": "python",
   "pygments_lexer": "ipython3",
   "version": "3.9.13"
  }
 },
 "nbformat": 4,
 "nbformat_minor": 4
}
